{
  "nbformat": 4,
  "nbformat_minor": 0,
  "metadata": {
    "colab": {
      "provenance": [],
      "include_colab_link": true
    },
    "kernelspec": {
      "name": "python3",
      "display_name": "Python 3"
    },
    "language_info": {
      "name": "python"
    }
  },
  "cells": [
    {
      "cell_type": "markdown",
      "metadata": {
        "id": "view-in-github",
        "colab_type": "text"
      },
      "source": [
        "<a href=\"https://colab.research.google.com/github/SumitSonar/gif-maker-using-python/blob/main/gif_project.ipynb\" target=\"_parent\"><img src=\"https://colab.research.google.com/assets/colab-badge.svg\" alt=\"Open In Colab\"/></a>"
      ]
    },
    {
      "cell_type": "code",
      "execution_count": 2,
      "metadata": {
        "id": "3lXsQ_VH9bsE"
      },
      "outputs": [],
      "source": [
        "import imageio.v3 as iio\n",
        "\n",
        "filenames = ['/content/1.jpg', '/content/2.jpg']\n",
        "images = [ ]\n",
        "\n",
        "for filename in filenames:\n",
        "  images.append(iio.imread(filename))\n",
        "\n",
        "iio.imwrite('result.gif', images, duration = 500, loop = 0)"
      ]
    }
  ]
}